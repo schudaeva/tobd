{
 "cells": [
  {
   "cell_type": "markdown",
   "metadata": {
    "id": "JIFl1Qdl8p7v"
   },
   "source": [
    "# Работа с базами данных"
   ]
  },
  {
   "cell_type": "markdown",
   "metadata": {
    "id": "Oc_MSjiO8p7y"
   },
   "source": [
    "## Лабораторная работа 9"
   ]
  },
  {
   "cell_type": "code",
   "execution_count": 1,
   "metadata": {
    "id": "KxmrF9eo7APG"
   },
   "outputs": [],
   "source": [
    "import sqlite3\n",
    "import pandas as pd"
   ]
  },
  {
   "cell_type": "markdown",
   "metadata": {
    "id": "aeD9dbyx8p7y"
   },
   "source": [
    "1. Создайте файл базы данных c названием `recipes.db`. Создайте объект-курсор. "
   ]
  },
  {
   "cell_type": "code",
   "execution_count": 22,
   "metadata": {},
   "outputs": [],
   "source": [
    "con = sqlite3.connect('recipes.db') # Открываем базу данных \n",
    "cur = con.cursor() # Создаем объект-курсор"
   ]
  },
  {
   "cell_type": "markdown",
   "metadata": {
    "id": "c5Nw8FNZ8p7y"
   },
   "source": [
    "2. Напишите и выполните SQL-запрос для создания таблицы рецептов `Recipe`. Таблица должна содержать следующие поля:\n",
    "`id`, `name`, `minutes`, `submitted`, `description`, `n_ingredients`. Определитесь с типами и составом ключевых полей."
   ]
  },
  {
   "cell_type": "code",
   "execution_count": 3,
   "metadata": {},
   "outputs": [
    {
     "name": "stdout",
     "output_type": "stream",
     "text": [
      "Запрос успешно выполнен\n"
     ]
    }
   ],
   "source": [
    "table1  = \"\"\"\n",
    "CREATE TABLE if not exists Recipe \n",
    "(\n",
    "    ID INTEGER PRIMARY KEY NOT NULL, \n",
    "    NAME VARCHAR(200)  NOT NULL,\n",
    "    MINUTES INTEGER NOT NULL,\n",
    "    SUBMITTED INTEGER NOT NULL,\n",
    "    DESCRIPTION TEXT,\n",
    "    N_INGREDIENTS INTEGER NOT NULL   \n",
    "); \"\"\"\n",
    "try:  # Обрабатываем исключения \n",
    "    cur.executescript(table1)  # Выnолняем SQL-зanpocы \n",
    "except sqlite3.DatabaseError as  err: \n",
    "    print(\"Ошибка:\", err) \n",
    "else: \n",
    "    print (\"Запрос успешно выполнен\") "
   ]
  },
  {
   "cell_type": "markdown",
   "metadata": {
    "id": "VmsvTVRJ8p7z"
   },
   "source": [
    "3. Напишите и выполните SQL-запрос для создания таблицы отзывов `Review`. Таблица должна содержать следующие поля:\n",
    "`id`, `user_id`, `recipe_id`, `date`, `rating`, `review`. Определитесь с типами полей, набором ключевых полей. При помощи внешнего ключа соедините две таблицы."
   ]
  },
  {
   "cell_type": "code",
   "execution_count": 4,
   "metadata": {},
   "outputs": [
    {
     "name": "stdout",
     "output_type": "stream",
     "text": [
      "Запрос успешно выполнен\n"
     ]
    }
   ],
   "source": [
    "table2  = \"\"\"\n",
    "CREATE TABLE if not exists Review\n",
    "(\n",
    "    ID INTEGER PRIMARY KEY NOT NULL,\n",
    "    USER_ID INTEGER NOT NULL,\n",
    "    RECIPE_ID INTEGER NOT NULL,\n",
    "    DATE DATE,\n",
    "    RATING INTEGER,\n",
    "    REVIEW TEXT,\n",
    "    FOREIGN KEY(RECIPE_ID) REFERENCES Recipe(ID)  \n",
    "); \"\"\"\n",
    "try:  # Обрабатываем исключения \n",
    "    cur.executescript(table2)  # Выnолняем SQL-зanpocы \n",
    "except sqlite3.DatabaseError as  err: \n",
    "    print(\"Ошибка:\", err) \n",
    "else: \n",
    "    print (\"Запрос успешно выполнен\") "
   ]
  },
  {
   "cell_type": "markdown",
   "metadata": {
    "id": "Y3O73NWY8p7z"
   },
   "source": [
    "4. Загрузите данные из файлов `reviews_sample.csv` (__ЛР2__) и `recipes_sample_with_tags_ingredients.csv` (__ЛР5__) в созданные таблицы"
   ]
  },
  {
   "cell_type": "code",
   "execution_count": 5,
   "metadata": {},
   "outputs": [],
   "source": [
    "recipe = pd.read_csv('recipes_sample_with_tags_ingredients.csv', sep=',')\n",
    "\n",
    "for i, row in recipe.iterrows():\n",
    "    data = row.loc[['id','name', 'minutes', 'submitted', 'description', 'n_ingredients']]\n",
    "    cur.execute(\n",
    "        '''\n",
    "        INSERT INTO\n",
    "        recipe (id, name, minutes, submitted, description, n_ingredients)\n",
    "        VALUES(?, ?, ?, ?, ?, ?)\n",
    "    ''',data\n",
    "    )\n",
    "con.commit()"
   ]
  },
  {
   "cell_type": "code",
   "execution_count": 9,
   "metadata": {},
   "outputs": [],
   "source": [
    "review = pd.read_csv('reviews_sample.csv', sep=',')\n",
    "\n",
    "for i, row in review.iterrows():\n",
    "    data = row.loc[['user_id', 'recipe_id', 'date', 'rating', 'review']]\n",
    "    cur.execute(\n",
    "        '''\n",
    "        INSERT INTO\n",
    "        review (user_id, recipe_id, date, rating, review)\n",
    "        VALUES(?, ?, ?, ?, ?)\n",
    "    ''',data\n",
    "    )\n",
    "con.commit()"
   ]
  },
  {
   "cell_type": "markdown",
   "metadata": {
    "id": "xKq9f1dV8p7z"
   },
   "source": [
    "5. Найдите все рецепты, для выполнения которых нужно ровно 10 ингредиентов. Выведите на экран первые 5 из найденных рецептов."
   ]
  },
  {
   "cell_type": "code",
   "execution_count": 10,
   "metadata": {},
   "outputs": [
    {
     "data": {
      "text/html": [
       "<div>\n",
       "<style scoped>\n",
       "    .dataframe tbody tr th:only-of-type {\n",
       "        vertical-align: middle;\n",
       "    }\n",
       "\n",
       "    .dataframe tbody tr th {\n",
       "        vertical-align: top;\n",
       "    }\n",
       "\n",
       "    .dataframe thead th {\n",
       "        text-align: right;\n",
       "    }\n",
       "</style>\n",
       "<table border=\"1\" class=\"dataframe\">\n",
       "  <thead>\n",
       "    <tr style=\"text-align: right;\">\n",
       "      <th></th>\n",
       "      <th>ID</th>\n",
       "      <th>NAME</th>\n",
       "      <th>MINUTES</th>\n",
       "      <th>SUBMITTED</th>\n",
       "      <th>DESCRIPTION</th>\n",
       "      <th>N_INGREDIENTS</th>\n",
       "    </tr>\n",
       "  </thead>\n",
       "  <tbody>\n",
       "    <tr>\n",
       "      <th>0</th>\n",
       "      <td>176</td>\n",
       "      <td>cola cake</td>\n",
       "      <td>55</td>\n",
       "      <td>1999-08-22</td>\n",
       "      <td>None</td>\n",
       "      <td>10</td>\n",
       "    </tr>\n",
       "    <tr>\n",
       "      <th>1</th>\n",
       "      <td>246</td>\n",
       "      <td>lee s hot crab dip</td>\n",
       "      <td>45</td>\n",
       "      <td>1999-09-01</td>\n",
       "      <td>lee's hot crab dip</td>\n",
       "      <td>10</td>\n",
       "    </tr>\n",
       "    <tr>\n",
       "      <th>2</th>\n",
       "      <td>289</td>\n",
       "      <td>feijoada  brazilian bean soup  ii</td>\n",
       "      <td>150</td>\n",
       "      <td>1999-10-04</td>\n",
       "      <td>brazilian bean soup</td>\n",
       "      <td>10</td>\n",
       "    </tr>\n",
       "    <tr>\n",
       "      <th>3</th>\n",
       "      <td>373</td>\n",
       "      <td>tiramisu   balducci s in new york city</td>\n",
       "      <td>95</td>\n",
       "      <td>1999-08-17</td>\n",
       "      <td>this is an adopted recipe. i shall be trying i...</td>\n",
       "      <td>10</td>\n",
       "    </tr>\n",
       "    <tr>\n",
       "      <th>4</th>\n",
       "      <td>544</td>\n",
       "      <td>greek mushroom salad</td>\n",
       "      <td>38</td>\n",
       "      <td>1999-08-10</td>\n",
       "      <td>None</td>\n",
       "      <td>10</td>\n",
       "    </tr>\n",
       "  </tbody>\n",
       "</table>\n",
       "</div>"
      ],
      "text/plain": [
       "    ID                                    NAME  MINUTES   SUBMITTED  \\\n",
       "0  176                               cola cake       55  1999-08-22   \n",
       "1  246                      lee s hot crab dip       45  1999-09-01   \n",
       "2  289       feijoada  brazilian bean soup  ii      150  1999-10-04   \n",
       "3  373  tiramisu   balducci s in new york city       95  1999-08-17   \n",
       "4  544                    greek mushroom salad       38  1999-08-10   \n",
       "\n",
       "                                         DESCRIPTION  N_INGREDIENTS  \n",
       "0                                               None             10  \n",
       "1                                 lee's hot crab dip             10  \n",
       "2                                brazilian bean soup             10  \n",
       "3  this is an adopted recipe. i shall be trying i...             10  \n",
       "4                                               None             10  "
      ]
     },
     "execution_count": 10,
     "metadata": {},
     "output_type": "execute_result"
    }
   ],
   "source": [
    "query_1 = '''\n",
    "select *\n",
    "from recipe\n",
    "where n_ingredients = 10;\n",
    "'''\n",
    "cur.execute(query_1) # выполняем запрос\n",
    "fa = cur.fetchall() # возвращает список всех записей из результата запроса\n",
    "colnames = [i[0] for i in cur.description] #cursor.description предоставляет имена столбцов последнего запроса\n",
    "result = pd.DataFrame(fa,columns= colnames)\n",
    "\n",
    "result.head()"
   ]
  },
  {
   "cell_type": "markdown",
   "metadata": {
    "id": "RhnbytpM8p7z"
   },
   "source": [
    "6. Найдите название рецепта, для выполнения которого требуется больше всего времени."
   ]
  },
  {
   "cell_type": "code",
   "execution_count": 11,
   "metadata": {},
   "outputs": [
    {
     "data": {
      "text/html": [
       "<div>\n",
       "<style scoped>\n",
       "    .dataframe tbody tr th:only-of-type {\n",
       "        vertical-align: middle;\n",
       "    }\n",
       "\n",
       "    .dataframe tbody tr th {\n",
       "        vertical-align: top;\n",
       "    }\n",
       "\n",
       "    .dataframe thead th {\n",
       "        text-align: right;\n",
       "    }\n",
       "</style>\n",
       "<table border=\"1\" class=\"dataframe\">\n",
       "  <thead>\n",
       "    <tr style=\"text-align: right;\">\n",
       "      <th></th>\n",
       "      <th>NAME</th>\n",
       "    </tr>\n",
       "  </thead>\n",
       "  <tbody>\n",
       "    <tr>\n",
       "      <th>0</th>\n",
       "      <td>strawberry liqueur</td>\n",
       "    </tr>\n",
       "    <tr>\n",
       "      <th>1</th>\n",
       "      <td>blueberry liqueur</td>\n",
       "    </tr>\n",
       "  </tbody>\n",
       "</table>\n",
       "</div>"
      ],
      "text/plain": [
       "                 NAME\n",
       "0  strawberry liqueur\n",
       "1   blueberry liqueur"
      ]
     },
     "execution_count": 11,
     "metadata": {},
     "output_type": "execute_result"
    }
   ],
   "source": [
    "query_2 = '''\n",
    "SELECT name\n",
    "FROM recipe\n",
    "WHERE minutes = (\n",
    "    SELECT MAX(minutes)\n",
    "    FROM recipe\n",
    ")\n",
    "'''\n",
    "cur.execute(query_2) # выполняем запрос\n",
    "fa = cur.fetchall()  # возвращает список всех записей из результата запроса\n",
    "colnames = [i[0] for i in cur.description] #cursor.description предоставляет имена столбцов последнего запроса\n",
    "result = pd.DataFrame(fa,columns= colnames)\n",
    "\n",
    "result.head()"
   ]
  },
  {
   "cell_type": "markdown",
   "metadata": {
    "id": "I3kXj5tz8p7z"
   },
   "source": [
    "7. Запросите у пользователя id рецепта и верните информацию об этом рецепте. Если рецепт отсуствует, выведите соответствующее сообщение."
   ]
  },
  {
   "cell_type": "code",
   "execution_count": 13,
   "metadata": {},
   "outputs": [
    {
     "name": "stdout",
     "output_type": "stream",
     "text": [
      "Введите id рецепта: 292568\n",
      "               NAME\n",
      "0  better  cake mix\n"
     ]
    }
   ],
   "source": [
    "recipe_id = input(\"Введите id рецепта: \")\n",
    "\n",
    "query_3 = '''\n",
    "SELECT name\n",
    "FROM recipe\n",
    "WHERE id = ?\n",
    "'''\n",
    "\n",
    "cur.execute(query_3, (recipe_id,))\n",
    "fa = cur.fetchall()\n",
    "colnames = [i[0] for i in cur.description] \n",
    "result = pd.DataFrame(fa,columns= colnames)\n",
    "\n",
    "if result.empty:\n",
    "    print('Рецепт отсутствует')\n",
    "else:\n",
    "    print(result)"
   ]
  },
  {
   "cell_type": "markdown",
   "metadata": {
    "id": "Wf9TAJZV8p7z"
   },
   "source": [
    "8. Найдите кол-во отзывов с рейтингом 5."
   ]
  },
  {
   "cell_type": "code",
   "execution_count": 14,
   "metadata": {},
   "outputs": [
    {
     "data": {
      "text/html": [
       "<div>\n",
       "<style scoped>\n",
       "    .dataframe tbody tr th:only-of-type {\n",
       "        vertical-align: middle;\n",
       "    }\n",
       "\n",
       "    .dataframe tbody tr th {\n",
       "        vertical-align: top;\n",
       "    }\n",
       "\n",
       "    .dataframe thead th {\n",
       "        text-align: right;\n",
       "    }\n",
       "</style>\n",
       "<table border=\"1\" class=\"dataframe\">\n",
       "  <thead>\n",
       "    <tr style=\"text-align: right;\">\n",
       "      <th></th>\n",
       "      <th>COUNT(id)</th>\n",
       "    </tr>\n",
       "  </thead>\n",
       "  <tbody>\n",
       "    <tr>\n",
       "      <th>0</th>\n",
       "      <td>91361</td>\n",
       "    </tr>\n",
       "  </tbody>\n",
       "</table>\n",
       "</div>"
      ],
      "text/plain": [
       "   COUNT(id)\n",
       "0      91361"
      ]
     },
     "execution_count": 14,
     "metadata": {},
     "output_type": "execute_result"
    }
   ],
   "source": [
    "query_4 = '''\n",
    "SELECT COUNT(id)\n",
    "FROM review\n",
    "WHERE rating = 5\n",
    "'''\n",
    "cur.execute(query_4)\n",
    "fa = cur.fetchall()\n",
    "colnames = [i[0] for i in cur.description] \n",
    "result = pd.DataFrame(fa,columns= colnames)\n",
    "\n",
    "result.head()"
   ]
  },
  {
   "cell_type": "markdown",
   "metadata": {
    "id": "ioVSYPRH8p70"
   },
   "source": [
    "9. Найдите кол-во уникальных рецептов, не имеющих отзывов с рейтингом, меньше 4. "
   ]
  },
  {
   "cell_type": "code",
   "execution_count": 27,
   "metadata": {},
   "outputs": [
    {
     "data": {
      "text/html": [
       "<div>\n",
       "<style scoped>\n",
       "    .dataframe tbody tr th:only-of-type {\n",
       "        vertical-align: middle;\n",
       "    }\n",
       "\n",
       "    .dataframe tbody tr th {\n",
       "        vertical-align: top;\n",
       "    }\n",
       "\n",
       "    .dataframe thead th {\n",
       "        text-align: right;\n",
       "    }\n",
       "</style>\n",
       "<table border=\"1\" class=\"dataframe\">\n",
       "  <thead>\n",
       "    <tr style=\"text-align: right;\">\n",
       "      <th></th>\n",
       "      <th>COUNT(recipe.id)</th>\n",
       "    </tr>\n",
       "  </thead>\n",
       "  <tbody>\n",
       "    <tr>\n",
       "      <th>0</th>\n",
       "      <td>35335</td>\n",
       "    </tr>\n",
       "  </tbody>\n",
       "</table>\n",
       "</div>"
      ],
      "text/plain": [
       "   COUNT(recipe.id)\n",
       "0             35335"
      ]
     },
     "execution_count": 27,
     "metadata": {},
     "output_type": "execute_result"
    }
   ],
   "source": [
    "query_4 = '''\n",
    "SELECT DISTINCT COUNT(recipe.id) FROM recipe \n",
    "LEFT JOIN review\n",
    "ON recipe.id = review.recipe_id\n",
    "WHERE review.rating <= 4\n",
    "'''\n",
    "cur.execute(query_4)\n",
    "fa = cur.fetchall()\n",
    "colnames = [i[0] for i in cur.description] #cursor.description предоставляет имена столбцов последнего запроса\n",
    "result = pd.DataFrame(fa,columns=colnames)\n",
    "result.head()"
   ]
  },
  {
   "cell_type": "markdown",
   "metadata": {
    "id": "S5Jw5RcS8p70"
   },
   "source": [
    "10. Найдите кол-во рецептов, опубликованных в 2010 году и имеющих длину не менее 15 минут."
   ]
  },
  {
   "cell_type": "code",
   "execution_count": 24,
   "metadata": {},
   "outputs": [
    {
     "data": {
      "text/html": [
       "<div>\n",
       "<style scoped>\n",
       "    .dataframe tbody tr th:only-of-type {\n",
       "        vertical-align: middle;\n",
       "    }\n",
       "\n",
       "    .dataframe tbody tr th {\n",
       "        vertical-align: top;\n",
       "    }\n",
       "\n",
       "    .dataframe thead th {\n",
       "        text-align: right;\n",
       "    }\n",
       "</style>\n",
       "<table border=\"1\" class=\"dataframe\">\n",
       "  <thead>\n",
       "    <tr style=\"text-align: right;\">\n",
       "      <th></th>\n",
       "      <th>count(*)</th>\n",
       "    </tr>\n",
       "  </thead>\n",
       "  <tbody>\n",
       "    <tr>\n",
       "      <th>0</th>\n",
       "      <td>1319</td>\n",
       "    </tr>\n",
       "  </tbody>\n",
       "</table>\n",
       "</div>"
      ],
      "text/plain": [
       "   count(*)\n",
       "0      1319"
      ]
     },
     "execution_count": 24,
     "metadata": {},
     "output_type": "execute_result"
    }
   ],
   "source": [
    "query_5 = '''\n",
    "SELECT count(*) FROM RECIPE\n",
    "WHERE minutes >= 15 AND\n",
    "submitted BETWEEN '2010-01-01' AND '2010-12-31'\n",
    "'''\n",
    "cur.execute(query_5) # выполняем запрос \n",
    "fa = cur.fetchall() # возвращает список всех записей из результата запроса\n",
    "colnames = [i[0] for i in cur.description] \n",
    "result = pd.DataFrame(fa,columns= colnames)\n",
    "\n",
    "result.head()"
   ]
  },
  {
   "cell_type": "markdown",
   "metadata": {
    "id": "c1Uu-Olu8p70"
   },
   "source": [
    "11. Выберите id рецепта, название рецепта, id пользователя, оставившего отзыв, дату отзыва и рейтинг для тех рецептов, которые имеют не менее 3 ингредиентов. Отсортируйте результат по id рецепта."
   ]
  },
  {
   "cell_type": "code",
   "execution_count": 19,
   "metadata": {},
   "outputs": [
    {
     "data": {
      "text/html": [
       "<div>\n",
       "<style scoped>\n",
       "    .dataframe tbody tr th:only-of-type {\n",
       "        vertical-align: middle;\n",
       "    }\n",
       "\n",
       "    .dataframe tbody tr th {\n",
       "        vertical-align: top;\n",
       "    }\n",
       "\n",
       "    .dataframe thead th {\n",
       "        text-align: right;\n",
       "    }\n",
       "</style>\n",
       "<table border=\"1\" class=\"dataframe\">\n",
       "  <thead>\n",
       "    <tr style=\"text-align: right;\">\n",
       "      <th></th>\n",
       "      <th>ID</th>\n",
       "      <th>NAME</th>\n",
       "      <th>USER_ID</th>\n",
       "      <th>DATE</th>\n",
       "      <th>RATING</th>\n",
       "    </tr>\n",
       "  </thead>\n",
       "  <tbody>\n",
       "    <tr>\n",
       "      <th>0</th>\n",
       "      <td>48</td>\n",
       "      <td>boston cream pie</td>\n",
       "      <td>32421.0</td>\n",
       "      <td>2002-03-15</td>\n",
       "      <td>0.0</td>\n",
       "    </tr>\n",
       "    <tr>\n",
       "      <th>1</th>\n",
       "      <td>48</td>\n",
       "      <td>boston cream pie</td>\n",
       "      <td>68674.0</td>\n",
       "      <td>2004-05-03</td>\n",
       "      <td>2.0</td>\n",
       "    </tr>\n",
       "    <tr>\n",
       "      <th>2</th>\n",
       "      <td>55</td>\n",
       "      <td>betty crocker s southwestern guacamole dip</td>\n",
       "      <td>53959.0</td>\n",
       "      <td>2006-01-12</td>\n",
       "      <td>4.0</td>\n",
       "    </tr>\n",
       "    <tr>\n",
       "      <th>3</th>\n",
       "      <td>55</td>\n",
       "      <td>betty crocker s southwestern guacamole dip</td>\n",
       "      <td>165567.0</td>\n",
       "      <td>2006-03-31</td>\n",
       "      <td>5.0</td>\n",
       "    </tr>\n",
       "    <tr>\n",
       "      <th>4</th>\n",
       "      <td>55</td>\n",
       "      <td>betty crocker s southwestern guacamole dip</td>\n",
       "      <td>851190.0</td>\n",
       "      <td>2010-05-23</td>\n",
       "      <td>5.0</td>\n",
       "    </tr>\n",
       "  </tbody>\n",
       "</table>\n",
       "</div>"
      ],
      "text/plain": [
       "   ID                                        NAME   USER_ID        DATE  \\\n",
       "0  48                            boston cream pie   32421.0  2002-03-15   \n",
       "1  48                            boston cream pie   68674.0  2004-05-03   \n",
       "2  55  betty crocker s southwestern guacamole dip   53959.0  2006-01-12   \n",
       "3  55  betty crocker s southwestern guacamole dip  165567.0  2006-03-31   \n",
       "4  55  betty crocker s southwestern guacamole dip  851190.0  2010-05-23   \n",
       "\n",
       "   RATING  \n",
       "0     0.0  \n",
       "1     2.0  \n",
       "2     4.0  \n",
       "3     5.0  \n",
       "4     5.0  "
      ]
     },
     "execution_count": 19,
     "metadata": {},
     "output_type": "execute_result"
    }
   ],
   "source": [
    "query_6 = '''\n",
    "SELECT rec.id, rec.name, rev.user_id, rev.date, rev.rating\n",
    "FROM recipe rec\n",
    "LEFT JOIN review rev\n",
    "ON rec.id = rev.recipe_id\n",
    "WHERE rec.n_ingredients >= 3\n",
    "ORDER BY rec.id\n",
    "'''\n",
    "cur.execute(query_6)\n",
    "fa = cur.fetchall()\n",
    "colnames = [i[0] for i in cur.description] \n",
    "result = pd.DataFrame(fa,columns= colnames)\n",
    "\n",
    "result.head()"
   ]
  },
  {
   "cell_type": "code",
   "execution_count": 20,
   "metadata": {},
   "outputs": [],
   "source": [
    "cur.close() # Закрываем объект-курсор\n",
    "con.close() # Закрываем соединение"
   ]
  }
 ],
 "metadata": {
  "colab": {
   "provenance": []
  },
  "kernelspec": {
   "display_name": "Python 3 (ipykernel)",
   "language": "python",
   "name": "python3"
  },
  "language_info": {
   "codemirror_mode": {
    "name": "ipython",
    "version": 3
   },
   "file_extension": ".py",
   "mimetype": "text/x-python",
   "name": "python",
   "nbconvert_exporter": "python",
   "pygments_lexer": "ipython3",
   "version": "3.9.13"
  }
 },
 "nbformat": 4,
 "nbformat_minor": 1
}
