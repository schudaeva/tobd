{
 "cells": [
  {
   "cell_type": "markdown",
   "metadata": {
    "id": "2ex_ayNJDuLi"
   },
   "source": [
    "# Dask Array"
   ]
  },
  {
   "cell_type": "markdown",
   "metadata": {
    "id": "IldHZxu3DuLl"
   },
   "source": [
    "## Лабораторная работа 11"
   ]
  },
  {
   "cell_type": "code",
   "execution_count": 1,
   "metadata": {
    "id": "x0ceUze-DuLl"
   },
   "outputs": [],
   "source": [
    "import dask.array as da\n",
    "import h5py\n",
    "import numpy as np"
   ]
  },
  {
   "cell_type": "markdown",
   "metadata": {
    "id": "6_4hHUEkUtGQ"
   },
   "source": [
    "[minutes_n_ingredients_full.hdf5](https://drive.google.com/file/d/1opgIK5XS8aY63G0pXtv6v6rxSHXUquVx/view?usp=sharing)"
   ]
  },
  {
   "cell_type": "markdown",
   "metadata": {
    "id": "o6NFW5FjDuLm"
   },
   "source": [
    "1. Считайте датасет `recipe` из файла `minutes_n_ingredients_full.hdf5` в виде `dask.array`. Укажите аргумент `chunks=(100_000, 3)` при создании массива. Выведите на экран основную информацию о массиве."
   ]
  },
  {
   "cell_type": "code",
   "execution_count": 85,
   "metadata": {
    "colab": {
     "base_uri": "https://localhost:8080/"
    },
    "id": "4HWY_x7wVlwo",
    "outputId": "163ef4a7-231e-463c-da76-a05da1650b62"
   },
   "outputs": [
    {
     "name": "stdout",
     "output_type": "stream",
     "text": [
      "Содержит столбцы id, minutes и n_ingredients из recipes_full.csv\n"
     ]
    },
    {
     "data": {
      "text/html": [
       "<table>\n",
       "    <tr>\n",
       "        <td>\n",
       "            <table>\n",
       "                <thead>\n",
       "                    <tr>\n",
       "                        <td> </td>\n",
       "                        <th> Array </th>\n",
       "                        <th> Chunk </th>\n",
       "                    </tr>\n",
       "                </thead>\n",
       "                <tbody>\n",
       "                    \n",
       "                    <tr>\n",
       "                        <th> Bytes </th>\n",
       "                        <td> 51.08 MiB </td>\n",
       "                        <td> 2.29 MiB </td>\n",
       "                    </tr>\n",
       "                    \n",
       "                    <tr>\n",
       "                        <th> Shape </th>\n",
       "                        <td> (2231637, 3) </td>\n",
       "                        <td> (100000, 3) </td>\n",
       "                    </tr>\n",
       "                    <tr>\n",
       "                        <th> Count </th>\n",
       "                        <td> 24 Tasks </td>\n",
       "                        <td> 23 Chunks </td>\n",
       "                    </tr>\n",
       "                    <tr>\n",
       "                    <th> Type </th>\n",
       "                    <td> int64 </td>\n",
       "                    <td> numpy.ndarray </td>\n",
       "                    </tr>\n",
       "                </tbody>\n",
       "            </table>\n",
       "        </td>\n",
       "        <td>\n",
       "        <svg width=\"75\" height=\"170\" style=\"stroke:rgb(0,0,0);stroke-width:1\" >\n",
       "\n",
       "  <!-- Horizontal lines -->\n",
       "  <line x1=\"0\" y1=\"0\" x2=\"25\" y2=\"0\" style=\"stroke-width:2\" />\n",
       "  <line x1=\"0\" y1=\"5\" x2=\"25\" y2=\"5\" />\n",
       "  <line x1=\"0\" y1=\"10\" x2=\"25\" y2=\"10\" />\n",
       "  <line x1=\"0\" y1=\"16\" x2=\"25\" y2=\"16\" />\n",
       "  <line x1=\"0\" y1=\"21\" x2=\"25\" y2=\"21\" />\n",
       "  <line x1=\"0\" y1=\"32\" x2=\"25\" y2=\"32\" />\n",
       "  <line x1=\"0\" y1=\"37\" x2=\"25\" y2=\"37\" />\n",
       "  <line x1=\"0\" y1=\"43\" x2=\"25\" y2=\"43\" />\n",
       "  <line x1=\"0\" y1=\"48\" x2=\"25\" y2=\"48\" />\n",
       "  <line x1=\"0\" y1=\"53\" x2=\"25\" y2=\"53\" />\n",
       "  <line x1=\"0\" y1=\"64\" x2=\"25\" y2=\"64\" />\n",
       "  <line x1=\"0\" y1=\"69\" x2=\"25\" y2=\"69\" />\n",
       "  <line x1=\"0\" y1=\"75\" x2=\"25\" y2=\"75\" />\n",
       "  <line x1=\"0\" y1=\"80\" x2=\"25\" y2=\"80\" />\n",
       "  <line x1=\"0\" y1=\"86\" x2=\"25\" y2=\"86\" />\n",
       "  <line x1=\"0\" y1=\"96\" x2=\"25\" y2=\"96\" />\n",
       "  <line x1=\"0\" y1=\"102\" x2=\"25\" y2=\"102\" />\n",
       "  <line x1=\"0\" y1=\"107\" x2=\"25\" y2=\"107\" />\n",
       "  <line x1=\"0\" y1=\"112\" x2=\"25\" y2=\"112\" />\n",
       "  <line x1=\"0\" y1=\"120\" x2=\"25\" y2=\"120\" style=\"stroke-width:2\" />\n",
       "\n",
       "  <!-- Vertical lines -->\n",
       "  <line x1=\"0\" y1=\"0\" x2=\"0\" y2=\"120\" style=\"stroke-width:2\" />\n",
       "  <line x1=\"25\" y1=\"0\" x2=\"25\" y2=\"120\" style=\"stroke-width:2\" />\n",
       "\n",
       "  <!-- Colored Rectangle -->\n",
       "  <polygon points=\"0.0,0.0 25.412616514582485,0.0 25.412616514582485,120.0 0.0,120.0\" style=\"fill:#8B4903A0;stroke-width:0\"/>\n",
       "\n",
       "  <!-- Text -->\n",
       "  <text x=\"12.706308\" y=\"140.000000\" font-size=\"1.0rem\" font-weight=\"100\" text-anchor=\"middle\" >3</text>\n",
       "  <text x=\"45.412617\" y=\"60.000000\" font-size=\"1.0rem\" font-weight=\"100\" text-anchor=\"middle\" transform=\"rotate(-90,45.412617,60.000000)\">2231637</text>\n",
       "</svg>\n",
       "        </td>\n",
       "    </tr>\n",
       "</table>"
      ],
      "text/plain": [
       "dask.array<array, shape=(2231637, 3), dtype=int64, chunksize=(100000, 3), chunktype=numpy.ndarray>"
      ]
     },
     "execution_count": 85,
     "metadata": {},
     "output_type": "execute_result"
    }
   ],
   "source": [
    "file = h5py.File('minutes_n_ingredients_full.hdf5')\n",
    "print(file['recipe'].attrs[\"description\"])\n",
    "recipes = da.from_array(file['recipe'], chunks=(100_000, 3))\n",
    "recipes"
   ]
  },
  {
   "cell_type": "markdown",
   "metadata": {
    "id": "rIfll9O3X8d3"
   },
   "source": [
    "[h5py doc](https://docs.h5py.org/en/stable/quick.html#core-concepts)"
   ]
  },
  {
   "cell_type": "markdown",
   "metadata": {
    "id": "7dHnBXT-DuLm"
   },
   "source": [
    "2. Вычислите среднее значение по каждому столбцу, кроме первого. "
   ]
  },
  {
   "cell_type": "code",
   "execution_count": 79,
   "metadata": {},
   "outputs": [
    {
     "name": "stdout",
     "output_type": "stream",
     "text": [
      "1 30.545404561763405\n",
      "2 5.419800800936711\n"
     ]
    }
   ],
   "source": [
    "for i in range(1, 3):\n",
    "    print(i, recipes[:, i].mean().compute())"
   ]
  },
  {
   "cell_type": "markdown",
   "metadata": {
    "id": "C2LakiQbDuLm"
   },
   "source": [
    "3. Исследуйте, как влияет значение аргумента `chunks` при создании `dask.array` на скорость выполнения операции поиска среднего. "
   ]
  },
  {
   "cell_type": "code",
   "execution_count": 78,
   "metadata": {},
   "outputs": [
    {
     "name": "stdout",
     "output_type": "stream",
     "text": [
      "Wall time: 39 ms\n"
     ]
    },
    {
     "data": {
      "text/plain": [
       "375950.1723050538"
      ]
     },
     "execution_count": 78,
     "metadata": {},
     "output_type": "execute_result"
    }
   ],
   "source": [
    "%%time\n",
    "test_count = da.from_array(file['recipe'], chunks=(100_000, 3))\n",
    "test_count.mean().compute()"
   ]
  },
  {
   "cell_type": "code",
   "execution_count": 71,
   "metadata": {},
   "outputs": [],
   "source": [
    "test_count = da.from_array(file['recipe'], chunks=(1_000_000, 3))"
   ]
  },
  {
   "cell_type": "code",
   "execution_count": 72,
   "metadata": {},
   "outputs": [
    {
     "name": "stdout",
     "output_type": "stream",
     "text": [
      "Wall time: 29 ms\n"
     ]
    },
    {
     "data": {
      "text/plain": [
       "375950.1723050538"
      ]
     },
     "execution_count": 72,
     "metadata": {},
     "output_type": "execute_result"
    }
   ],
   "source": [
    "%%time\n",
    "test_count.mean().compute()"
   ]
  },
  {
   "cell_type": "code",
   "execution_count": 73,
   "metadata": {},
   "outputs": [],
   "source": [
    "test_count = da.from_array(file['recipe'], chunks=(100, 3))"
   ]
  },
  {
   "cell_type": "code",
   "execution_count": 74,
   "metadata": {},
   "outputs": [
    {
     "name": "stdout",
     "output_type": "stream",
     "text": [
      "Wall time: 9.18 s\n"
     ]
    },
    {
     "data": {
      "text/plain": [
       "375950.1723050538"
      ]
     },
     "execution_count": 74,
     "metadata": {},
     "output_type": "execute_result"
    }
   ],
   "source": [
    "%%time\n",
    "test_count.mean().compute()"
   ]
  },
  {
   "cell_type": "code",
   "execution_count": 76,
   "metadata": {},
   "outputs": [
    {
     "name": "stdout",
     "output_type": "stream",
     "text": [
      "Wall time: 1min 43s\n"
     ]
    },
    {
     "data": {
      "text/plain": [
       "375950.1723050538"
      ]
     },
     "execution_count": 76,
     "metadata": {},
     "output_type": "execute_result"
    }
   ],
   "source": [
    "%%time\n",
    "test_count = da.from_array(file['recipe'], chunks=(10, 3))\n",
    "test_count.mean().compute()"
   ]
  },
  {
   "cell_type": "markdown",
   "metadata": {
    "id": "a4Eivd3jDuLn"
   },
   "source": [
    "4. Выберите рецепты, время выполнения которых меньше медианного значения"
   ]
  },
  {
   "cell_type": "code",
   "execution_count": 25,
   "metadata": {},
   "outputs": [
    {
     "data": {
      "text/plain": [
       "array([[1089012,      23,       5],\n",
       "       [1428572,       0,       5],\n",
       "       [1400250,      24,       1],\n",
       "       ...,\n",
       "       [1029131,      19,       4],\n",
       "       [1700703,       1,       1],\n",
       "       [ 713836,       0,       9]], dtype=int64)"
      ]
     },
     "execution_count": 25,
     "metadata": {},
     "output_type": "execute_result"
    }
   ],
   "source": [
    "med = da.median(recipes[:, 1], axis=0).compute()\n",
    "recipes[recipes[:, 1] < med, :].compute()"
   ]
  },
  {
   "cell_type": "markdown",
   "metadata": {
    "id": "fnzas9TdDuLn"
   },
   "source": [
    "5. Посчитайте количество каждого из возможных значений кол-ва ингредиентов"
   ]
  },
  {
   "cell_type": "code",
   "execution_count": 26,
   "metadata": {},
   "outputs": [
    {
     "name": "stdout",
     "output_type": "stream",
     "text": [
      "1 222071\n",
      "2 224158\n",
      "3 229388\n",
      "4 234948\n",
      "5 240720\n",
      "6 244360\n",
      "7 247181\n",
      "8 246747\n",
      "9 246816\n",
      "10 22430\n",
      "11 19094\n",
      "12 15165\n",
      "13 11640\n",
      "14 8284\n",
      "15 6014\n",
      "16 4145\n",
      "17 2793\n",
      "18 1913\n",
      "19 1279\n",
      "20 852\n",
      "21 529\n",
      "22 346\n",
      "23 244\n",
      "24 178\n",
      "25 107\n",
      "26 68\n",
      "27 55\n",
      "28 33\n",
      "29 22\n",
      "30 20\n",
      "31 13\n",
      "32 5\n",
      "33 4\n",
      "34 3\n",
      "35 4\n",
      "36 1\n",
      "37 2\n",
      "38 1\n",
      "39 1\n",
      "40 2\n",
      "43 1\n"
     ]
    }
   ],
   "source": [
    "values, counts = da.unique(recipes[:, 2], return_counts=True)\n",
    "# находит уникальные элементы массива и возвращает их в отсортированном массиве\n",
    "for value, count in zip(values.compute(), counts.compute()):\n",
    "    print(value, count)"
   ]
  },
  {
   "cell_type": "markdown",
   "metadata": {
    "id": "GgsvYigFDuLn"
   },
   "source": [
    "6. Найдите максимальную продолжительность рецепта. Ограничьте максимальную продолжительность рецептов сверху значением, равному 75% квантилю."
   ]
  },
  {
   "cell_type": "code",
   "execution_count": 27,
   "metadata": {},
   "outputs": [
    {
     "data": {
      "text/plain": [
       "2147483647"
      ]
     },
     "execution_count": 27,
     "metadata": {},
     "output_type": "execute_result"
    }
   ],
   "source": [
    "result = da.max(recipes[:, 1]).compute()\n",
    "result"
   ]
  },
  {
   "cell_type": "code",
   "execution_count": 61,
   "metadata": {},
   "outputs": [
    {
     "data": {
      "text/plain": [
       "49"
      ]
     },
     "execution_count": 61,
     "metadata": {},
     "output_type": "execute_result"
    }
   ],
   "source": [
    "q = recipes.to_dask_dataframe()[1].quantile(0.75).compute()\n",
    "recipes[recipes[:, 1] > q, 1] = q\n",
    "result = da.max(recipes[:, 1]).compute()\n",
    "result"
   ]
  },
  {
   "cell_type": "markdown",
   "metadata": {
    "id": "zW_nAmQADuLn"
   },
   "source": [
    "7. Создайте массив `dask.array` из 2 чисел, содержащих ваши предпочтения относительно времени выполнения рецепта и кол-ва ингредиентов. Найдите наиболее похожий (в смысле $L_1$) рецепт из имеющихся в датасете."
   ]
  },
  {
   "cell_type": "code",
   "execution_count": 62,
   "metadata": {},
   "outputs": [],
   "source": [
    "t = 10\n",
    "i = 5\n",
    "my_request = da.from_array([t, i])"
   ]
  },
  {
   "cell_type": "code",
   "execution_count": 80,
   "metadata": {},
   "outputs": [
    {
     "data": {
      "text/plain": [
       "158"
      ]
     },
     "execution_count": 80,
     "metadata": {},
     "output_type": "execute_result"
    }
   ],
   "source": [
    "diff = my_request - recipes[:, 1:]\n",
    "diff.compute()\n",
    "mask = da.abs(diff).sum(axis=1).argmin()\n",
    "mask.compute()"
   ]
  },
  {
   "cell_type": "code",
   "execution_count": 70,
   "metadata": {},
   "outputs": [
    {
     "data": {
      "text/plain": [
       "array([2168955,      10,       5], dtype=int64)"
      ]
     },
     "execution_count": 70,
     "metadata": {},
     "output_type": "execute_result"
    }
   ],
   "source": [
    "result = recipes[mask].compute()\n",
    "result"
   ]
  },
  {
   "cell_type": "markdown",
   "metadata": {
    "id": "_NNsniFzDuLn"
   },
   "source": [
    "8. Работая с исходным файлом в формате `hdf5`, реализуйте алгоритм подсчета среднего значения в блочной форме и вычислите с его помощью среднее значение второго столбца в массиве.\n",
    "\n",
    "Блочный алгоритм вычислений состоит из двух частей:\n",
    "1. Загрузка фрагмента за фрагментом данных по `blocksize` элементов и проведение вычислений на этим фрагментом\n",
    "2. Агрегация результатов вычислений на различных фрагментах для получения результата на уровне всего набора данных\n",
    "\n",
    "Важно: при работе с `h5py` в память загружаются не все элементы, а только те, которые запрашиваются в данный момент"
   ]
  },
  {
   "cell_type": "code",
   "execution_count": 113,
   "metadata": {
    "id": "YaoaHBVJDuLn"
   },
   "outputs": [],
   "source": [
    "def block_algorithm(h5_file: str, blocksize: int = 100_000):\n",
    "    sum_list = []\n",
    "    cnt_list = []\n",
    "    for chunk in chunk_read(h5_file, blocksize):\n",
    "        sum_list.append(chunk.sum()) \n",
    "        cnt_list.append(chunk.size)\n",
    "    return aggregate(sum_list, cnt_list)\n",
    "\n",
    "def chunk_read(h5_file: str, blocksize: int):\n",
    "    with h5py.File(h5_file) as f:\n",
    "        dataset = f['recipe']\n",
    "        for i in range(0, dataset.shape[0], blocksize):\n",
    "            yield dataset[i:i + blocksize, 1]\n",
    "            \n",
    "def aggregate(sum_list: list, count_list: list):\n",
    "    return sum(sum_list) / sum(count_list)            "
   ]
  },
  {
   "cell_type": "code",
   "execution_count": 114,
   "metadata": {
    "scrolled": true
   },
   "outputs": [
    {
     "data": {
      "text/plain": [
       "1004.2080517575215"
      ]
     },
     "execution_count": 114,
     "metadata": {},
     "output_type": "execute_result"
    }
   ],
   "source": [
    "block_algorithm('minutes_n_ingredients_full.hdf5')"
   ]
  },
  {
   "cell_type": "code",
   "execution_count": null,
   "metadata": {},
   "outputs": [],
   "source": []
  }
 ],
 "metadata": {
  "colab": {
   "provenance": []
  },
  "kernelspec": {
   "display_name": "Python 3 (ipykernel)",
   "language": "python",
   "name": "python3"
  },
  "language_info": {
   "codemirror_mode": {
    "name": "ipython",
    "version": 3
   },
   "file_extension": ".py",
   "mimetype": "text/x-python",
   "name": "python",
   "nbconvert_exporter": "python",
   "pygments_lexer": "ipython3",
   "version": "3.9.13"
  }
 },
 "nbformat": 4,
 "nbformat_minor": 1
}
