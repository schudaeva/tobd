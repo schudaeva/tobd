{
 "cells": [
  {
   "cell_type": "markdown",
   "metadata": {
    "id": "3H-ZfijFlkbH"
   },
   "source": [
    "## Лабораторная работа 12"
   ]
  },
  {
   "cell_type": "code",
   "execution_count": null,
   "metadata": {
    "colab": {
     "base_uri": "https://localhost:8080/"
    },
    "id": "dVq7lROvZoVL",
    "outputId": "a622e08c-4e6d-47d7-f679-d5d4479026e4"
   },
   "outputs": [
    {
     "name": "stdout",
     "output_type": "stream",
     "text": [
      "Mounted at /content/drive\n"
     ]
    }
   ],
   "source": [
    "from google.colab import drive\n",
    "drive.mount('/content/drive')"
   ]
  },
  {
   "cell_type": "code",
   "execution_count": 1,
   "metadata": {
    "id": "ZiC7Y5qrlkbH"
   },
   "outputs": [],
   "source": [
    "import dask.bag as db\n",
    "import json\n",
    "import re\n",
    "import pandas as pd"
   ]
  },
  {
   "cell_type": "code",
   "execution_count": 2,
   "metadata": {
    "id": "A3eibGcKrU4Z"
   },
   "outputs": [],
   "source": [
    "import dask"
   ]
  },
  {
   "cell_type": "code",
   "execution_count": 3,
   "metadata": {
    "colab": {
     "base_uri": "https://localhost:8080/",
     "height": 36
    },
    "id": "M0iEs0v3rYdU",
    "outputId": "c77e3096-106e-4567-fbbb-1d853a50f009"
   },
   "outputs": [
    {
     "data": {
      "text/plain": [
       "'2022.7.0'"
      ]
     },
     "execution_count": 3,
     "metadata": {},
     "output_type": "execute_result"
    }
   ],
   "source": [
    "dask.__version__"
   ]
  },
  {
   "cell_type": "markdown",
   "metadata": {
    "id": "WWlHnRtKXKG8"
   },
   "source": [
    "* [reviews_full.zip](https://drive.google.com/file/d/1iSIF9qeZqUoiLawJ0w6KpH0lV-31Lnf0/view?usp=share_link )"
   ]
  },
  {
   "cell_type": "markdown",
   "metadata": {
    "id": "98i7r_DWlkbI"
   },
   "source": [
    "1. В файлах архиве `reviews_full.zip` находятся файлы, содержащие информацию об отзывах к рецептам в формате JSON Lines. Отзывы разделены на файлы в зависимости от оценки (например, в файле `reviews_1.json` находятся отзывы с оценкой 1). Считайте файлы из этого архива в виде `dask.bag`. Преобразуйте текстовое содержимое файлов в объекты python (с помощью модуля `json`). Выведите на экран первые 5 элементов полученного `bag`."
   ]
  },
  {
   "cell_type": "code",
   "execution_count": 5,
   "metadata": {
    "id": "x0L-5nl6oTxW"
   },
   "outputs": [
    {
     "data": {
      "text/plain": [
       "({'user_id': 452355,\n",
       "  'recipe_id': 292657,\n",
       "  'date': '2016-05-08',\n",
       "  'review': 'WOW!!! This is the best. I have never been able to make homemade enchiladas that taste like the Mexican restaurants. I made this last night for my family and they said they will never have enchiladas at the Mexican Restaurants again. Thanks for sharing.'},\n",
       " {'user_id': 329304,\n",
       "  'recipe_id': 433404,\n",
       "  'date': '2006-06-14',\n",
       "  'review': 'This was good but the dressing needed something and I found it to be a little too sweet, next time I will experiment with some garlic and herbs and reduce the sugar slightly, thanks for sharing kcdlong!...Kitten'},\n",
       " {'user_id': 227932,\n",
       "  'recipe_id': 2008187,\n",
       "  'date': '1985-11-19',\n",
       "  'review': 'Very good,it was a hit for my family. I used 6 cloves of garlic and had 1 lb beef and  Johnsonville sausage,1/2 lb hot and  1/2 lb honey garlic( which I wanted to use). That was a perfect combo for us. The sausage gave it nice flavor No guestion , I will be making this often.'},\n",
       " {'user_id': 171468,\n",
       "  'recipe_id': 270716,\n",
       "  'date': '2019-05-21',\n",
       "  'review': 'Made for ZWT-8 Family Picks after I saw these mentioned in the Family Picks thread. So I got up this morning, made my morning coffee while the oven was heating & then made these quick-fix sweet treats B4 I was ready for my 2nd cup of coffee. I used 8\" tortillas (all I had on-hand) & cut them into 8 wedges. Then I used 2 of my Pamperd Chef gadgets .. my sml basting brush to spread the honey on the warm tortillas & my flour/sugar shaker to sprinkle the powd sugar/cinnamon mixture atop the honeyed tortillas. It might have taken a total of 2 min from oven to tasting! Yum! Using the same \"sweet mix\" these would also be good w/butter, cream cheese or even lime juice. Can\\'t wait to try them w/lime juice! Thx for sharing this tasty little treat w/us.'},\n",
       " {'user_id': 91392,\n",
       "  'recipe_id': 1159916,\n",
       "  'date': '1972-09-18',\n",
       "  'review': \"Very nice slaw. I especially like that it doesn't have the mayo dressing. I used a prepackaged Cole slaw mix, so i didn't include the carrots nor the nuts. I also doubled the sauce. :)\"})"
      ]
     },
     "execution_count": 5,
     "metadata": {},
     "output_type": "execute_result"
    }
   ],
   "source": [
    "b = db.read_text(urlpath=\"./reviews_full/reviews_full/reviews_*.json\").map(json.loads)\n",
    "b.take(5)"
   ]
  },
  {
   "cell_type": "markdown",
   "metadata": {
    "id": "JlZVt0htlkbJ"
   },
   "source": [
    "2. Модифицируйте функцию разбора JSON таким образом, чтобы в каждый словарь c информацией об отзыве добавить ключ `rating`. Значение получите на основе названия файла (см. аргумент `include_path`), использовав для этого регулярное выражение."
   ]
  },
  {
   "cell_type": "code",
   "execution_count": 6,
   "metadata": {},
   "outputs": [],
   "source": [
    "import re\n",
    "from datetime import datetime"
   ]
  },
  {
   "cell_type": "code",
   "execution_count": 8,
   "metadata": {},
   "outputs": [
    {
     "data": {
      "text/plain": [
       "({'user_id': 452355,\n",
       "  'recipe_id': 292657,\n",
       "  'date': datetime.datetime(2016, 5, 8, 0, 0),\n",
       "  'review': 'WOW!!! This is the best. I have never been able to make homemade enchiladas that taste like the Mexican restaurants. I made this last night for my family and they said they will never have enchiladas at the Mexican Restaurants again. Thanks for sharing.',\n",
       "  'rating': 0},\n",
       " {'user_id': 329304,\n",
       "  'recipe_id': 433404,\n",
       "  'date': datetime.datetime(2006, 6, 14, 0, 0),\n",
       "  'review': 'This was good but the dressing needed something and I found it to be a little too sweet, next time I will experiment with some garlic and herbs and reduce the sugar slightly, thanks for sharing kcdlong!...Kitten',\n",
       "  'rating': 0},\n",
       " {'user_id': 227932,\n",
       "  'recipe_id': 2008187,\n",
       "  'date': datetime.datetime(1985, 11, 19, 0, 0),\n",
       "  'review': 'Very good,it was a hit for my family. I used 6 cloves of garlic and had 1 lb beef and  Johnsonville sausage,1/2 lb hot and  1/2 lb honey garlic( which I wanted to use). That was a perfect combo for us. The sausage gave it nice flavor No guestion , I will be making this often.',\n",
       "  'rating': 0},\n",
       " {'user_id': 171468,\n",
       "  'recipe_id': 270716,\n",
       "  'date': datetime.datetime(2019, 5, 21, 0, 0),\n",
       "  'review': 'Made for ZWT-8 Family Picks after I saw these mentioned in the Family Picks thread. So I got up this morning, made my morning coffee while the oven was heating & then made these quick-fix sweet treats B4 I was ready for my 2nd cup of coffee. I used 8\" tortillas (all I had on-hand) & cut them into 8 wedges. Then I used 2 of my Pamperd Chef gadgets .. my sml basting brush to spread the honey on the warm tortillas & my flour/sugar shaker to sprinkle the powd sugar/cinnamon mixture atop the honeyed tortillas. It might have taken a total of 2 min from oven to tasting! Yum! Using the same \"sweet mix\" these would also be good w/butter, cream cheese or even lime juice. Can\\'t wait to try them w/lime juice! Thx for sharing this tasty little treat w/us.',\n",
       "  'rating': 0},\n",
       " {'user_id': 91392,\n",
       "  'recipe_id': 1159916,\n",
       "  'date': datetime.datetime(1972, 9, 18, 0, 0),\n",
       "  'review': \"Very nice slaw. I especially like that it doesn't have the mayo dressing. I used a prepackaged Cole slaw mix, so i didn't include the carrots nor the nuts. I also doubled the sauce. :)\",\n",
       "  'rating': 0},\n",
       " {'user_id': 229850,\n",
       "  'recipe_id': 1300038,\n",
       "  'date': datetime.datetime(2014, 10, 3, 0, 0),\n",
       "  'review': 'Took this to a New Year&#039;s Eve Party. Everyone loved it! It&#039;s absolutely perfect, the flavor, the crunch, just delicious!',\n",
       "  'rating': 0},\n",
       " {'user_id': 2001157567,\n",
       "  'recipe_id': 375259,\n",
       "  'date': datetime.datetime(2017, 6, 19, 0, 0),\n",
       "  'review': 'These are tasty muffins. I think the flavor of the black pepper is subtle, but then I love black pepper. I like muffins that are a little more moist, though, but these are good served with a comforting bowl of soup. I only had to bake mine for 25 minutes, but I might decrease that time to 20 and maybe that will help make them more moist. Made for Photo Swap! Thanks Bonnie!',\n",
       "  'rating': 0},\n",
       " {'user_id': 61569,\n",
       "  'recipe_id': 728460,\n",
       "  'date': datetime.datetime(2019, 4, 10, 0, 0),\n",
       "  'review': \"This worked well over angel food cake with some Cool Whip.  Everyone liked it, except some didn't like the mint.  I think that's just their own individual tastes.  My child loved it.\",\n",
       "  'rating': 0},\n",
       " {'user_id': 464624,\n",
       "  'recipe_id': 616002,\n",
       "  'date': datetime.datetime(1978, 10, 5, 0, 0),\n",
       "  'review': 'This had a nice taste (not \"porky\") tasting and was very juicy and tender.  I thickened the juice and poured it back over the meat and served with rice.  I will be making this again..thanks for sharing!',\n",
       "  'rating': 0},\n",
       " {'user_id': 2706705,\n",
       "  'recipe_id': 133747,\n",
       "  'date': datetime.datetime(2015, 5, 8, 0, 0),\n",
       "  'review': 'Simple and easy way to enjoy a slice of pizza any time!  Well-toasted bread is the key - really toast it!  I put a bit of pizza sauce underneath my cheese for a more pizza-like flavor.  I used sourdough bread & medium cheddar cheese.  Fast & fun!  Great idea!  Made for 1-2-3 Hits Tag Game.',\n",
       "  'rating': 0},\n",
       " {'user_id': 1280137,\n",
       "  'recipe_id': 374731,\n",
       "  'date': datetime.datetime(2009, 5, 28, 0, 0),\n",
       "  'review': 'This is such a random recipe!  But so intriguing at the same time....perhaps next time I have a girls night in!',\n",
       "  'rating': 0},\n",
       " {'user_id': 171303,\n",
       "  'recipe_id': 1787460,\n",
       "  'date': datetime.datetime(1989, 4, 20, 0, 0),\n",
       "  'review': 'These were wonderful.  I received a thumbs up from DH, and that rarely happens.  The sauce was quite tasty, too!',\n",
       "  'rating': 0},\n",
       " {'user_id': 298791,\n",
       "  'recipe_id': 1886560,\n",
       "  'date': datetime.datetime(2016, 6, 25, 0, 0),\n",
       "  'review': \"yum, these are gorgeous. I didn't use the glaze & I don't think they needed it, were great without. I think the sugar could probably be cut out too as the chocolate gives plenty of sweetness. I used self-raising flour & no baking powder and a caramel coffee..yummo.\",\n",
       "  'rating': 0},\n",
       " {'user_id': 122235,\n",
       "  'recipe_id': 82946,\n",
       "  'date': datetime.datetime(2004, 2, 3, 0, 0),\n",
       "  'review': \"Lola, you are correct about ono meaning tasty.  Your recipe sounds tasty, but it sure doesn't sound Hawaiian!  Sometims soon, I'll give it a try.\",\n",
       "  'rating': 0},\n",
       " {'user_id': 20517,\n",
       "  'recipe_id': 1653303,\n",
       "  'date': datetime.datetime(2020, 11, 6, 0, 0),\n",
       "  'review': \"Great recipe! I found the wonton cups just adorable, and the salad was very fresh tasting.\\n\\nTip 1: find a cup just smaller than your muffin tin. Lay the wonton wrapper over the muffin tin and gently press it in with the bottom of the cup. My toddler's sippy cup is the perfect size.\\n\\nTip 2: if you're making these ahead of time, consider brushing the inside of the cup with a little olive or other light tasting oil - the oil will help stop the water in the dressing from soaking into the shell and making it soggy. \\n\\nTip 3: an ice cream scoop is the perfect size for easy dishing the salad into the wonton cups quickly.\",\n",
       "  'rating': 0},\n",
       " {'user_id': 945545,\n",
       "  'recipe_id': 898468,\n",
       "  'date': datetime.datetime(2015, 6, 30, 0, 0),\n",
       "  'review': 'Delish!  I wanted to make this spicy so I used hot enchilada sauce and jalapeno refried beans.  I forgot to buy the onions so I doctored up the beans with onion powder and granulated garlic.  Added the olives under the cheese and baked, uncovered, for the 25 minutes.  Served with pico de gallo, sour cream and avocado chunks.  Fantastic!  Thanks for sharing, lazyme!',\n",
       "  'rating': 0},\n",
       " {'user_id': 1639208,\n",
       "  'recipe_id': 1998430,\n",
       "  'date': datetime.datetime(2020, 3, 13, 0, 0),\n",
       "  'review': 'OMG!!!  This recipe is going in my Favorites right now!  Not even sure how to describe it except to say it&#039;s a flavor party in your mouth!  Even though there are a lot of strong flavored spices in the recipe, the flavor is subtle and delicious.  DH kept saying &quot;there&#039;s something different in every bite&quot;!  And though he&#039;s never expressed an opinion on how to rate a recipe, he kept saying &quot;You&#039;ve got to rate this a five...&quot;.  So five it is.  If I could give it more, I would.  Now, the finished dish is not exactly pretty or photogenic in any way, like most Shepherd&#039;s Pies.  DH suggested that next time (and there WILL be a next time) we slice a hard boiled egg and fan it over the top, then sprinkle with finely minced parsley. I cut the recipe in half and baked it in individual gratin dishes - it was just perfect!  Thank so much for posting this, Nancy!  Made for ZWT9 Gourmet Goddesses.',\n",
       "  'rating': 0},\n",
       " {'user_id': 69695,\n",
       "  'recipe_id': 877260,\n",
       "  'date': datetime.datetime(1989, 12, 14, 0, 0),\n",
       "  'review': 'I found the 1/2 pint jars too small, pint jars are pictured. Dividing up 3 1/2 cups rice roughly for 4 container is 14 tablespoons, I could only get 11 in the 1/2 pint jar.',\n",
       "  'rating': 0},\n",
       " {'user_id': 486648,\n",
       "  'recipe_id': 292083,\n",
       "  'date': datetime.datetime(2010, 11, 27, 0, 0),\n",
       "  'review': \"I really liked the idea of an apple and pear crisp, but this did not work out for me. I made exactly as directed, but after cooking as directed, the apples and pears were very firm and gave off so much liquid that it was kind of a hard fruit soup. I tried cooking longer, but it didn't help. The flavor was good, but it didn't work out for us.\",\n",
       "  'rating': 0},\n",
       " {'user_id': 852439,\n",
       "  'recipe_id': 165468,\n",
       "  'date': datetime.datetime(2008, 6, 2, 0, 0),\n",
       "  'review': 'It was great, will cook it again..... If you have anymore similar recipes like this one, I would love to get them.....',\n",
       "  'rating': 0},\n",
       " {'user_id': 499271,\n",
       "  'recipe_id': 758558,\n",
       "  'date': datetime.datetime(2013, 6, 20, 0, 0),\n",
       "  'review': \"After trying a package recipe, they didn't turn out so well.\\nBut these were perfect! Gooey, but still holding together.\\nThese had the classic taste I was going for, though I added 4 Tbsp. butter instead of 3.\\nAfter they had cooled fully, I pressed peanut M&Ms into one half, and leftover decorating chocolate on the other half.\\nWonderful, my new go-to recipe.\",\n",
       "  'rating': 0},\n",
       " {'user_id': 310237,\n",
       "  'recipe_id': 294465,\n",
       "  'date': datetime.datetime(2012, 11, 15, 0, 0),\n",
       "  'review': 'Love, love, love these wrappers. So easy to make and use. I used 1/2 home ground wheat flour and 1/2 regular flour for increased nutrition.',\n",
       "  'rating': 0},\n",
       " {'user_id': 1466821,\n",
       "  'recipe_id': 85496,\n",
       "  'date': datetime.datetime(2009, 11, 29, 0, 0),\n",
       "  'review': \"Wow, I thought this was really greasy and really salty.  I guess there is a lot of possibility for variation with the stuffing mix and cheese you use but I won't be making this again.\",\n",
       "  'rating': 0},\n",
       " {'user_id': 89831,\n",
       "  'recipe_id': 1058166,\n",
       "  'date': datetime.datetime(2008, 1, 3, 0, 0),\n",
       "  'review': 'This was easy and delisious.  Very tasty.  I served it as a breakfast with a side of cheese grits.  Thanks for submitting. Made for PAC Fall 2008',\n",
       "  'rating': 0},\n",
       " {'user_id': 1678798,\n",
       "  'recipe_id': 476145,\n",
       "  'date': datetime.datetime(2021, 6, 27, 0, 0),\n",
       "  'review': 'Thank you for posting this delicious recipe! I am always on the lookout for unique salads, and boy did this fit the bill.  It is very simple to put together, and is a great find for avocado lovers like me.  After tasting the dressing I decided to add a little bit more lemon juice and added a bit more hot sauce as wel.  I thought the dressing was great, but it really shined when tossed with the salad ingredients. I used the baby spinach as called for, and I also added some baby romaine. I didn\\'t have asiago cheese, but had some niced aged parmesan that I used instead.  The one ingredient that really made the salad was the sun dried tomatoes. Don\\'t leave them out! All the ingredients worked well together and even my salad hating husband said, \"more please.\"  I know we will make this often. Thanks!',\n",
       "  'rating': 0},\n",
       " {'user_id': 980570,\n",
       "  'recipe_id': 262757,\n",
       "  'date': datetime.datetime(2008, 10, 13, 0, 0),\n",
       "  'review': 'has anyone tried making this with Splenda? - it would save 768 calories, but might reduce the number of cookies made since youuse 1/2 c Splenda for 1 c sugar.',\n",
       "  'rating': 0},\n",
       " {'user_id': 1803029705,\n",
       "  'recipe_id': 1216263,\n",
       "  'date': datetime.datetime(1997, 7, 6, 0, 0),\n",
       "  'review': 'I threw everything into the food processor and chopped it up.  Great way to use those end of season green tomatoes.  I used two fresh Tabasco chilies from the garden and the heat was perfect for us (but we like it hot).  Thanks for sharing.',\n",
       "  'rating': 0},\n",
       " {'user_id': 226372,\n",
       "  'recipe_id': 252248,\n",
       "  'date': datetime.datetime(2016, 8, 13, 0, 0),\n",
       "  'review': 'Thanks for the tip on using pomegranate juice instead of pom wonderful and simple syrup Im going to try them tonight :)',\n",
       "  'rating': 0},\n",
       " {'user_id': 262915,\n",
       "  'recipe_id': 1657686,\n",
       "  'date': datetime.datetime(2015, 11, 29, 0, 0),\n",
       "  'review': 'This is seriously delicious.  I mixed it up the night before and baked it in the morning before work.  Made the sauce the night before and refrigerated overnight and heated in microwave.  Such an unusual combination but it kind of reminded me of the pancake on a stick that my kids used to get at the convenience store (sausage wrapped in a pancake, kind of like a corn dog.  Making it again this week and will try to get a pic this time!',\n",
       "  'rating': 0},\n",
       " {'user_id': 217621,\n",
       "  'recipe_id': 1701351,\n",
       "  'date': datetime.datetime(2018, 5, 24, 0, 0),\n",
       "  'review': 'This is delicious.  Very creamy.  The only thing I would change is to double the recipe.  Thanks for sharing.',\n",
       "  'rating': 0},\n",
       " {'user_id': 1179225,\n",
       "  'recipe_id': 1748990,\n",
       "  'date': datetime.datetime(2005, 9, 18, 0, 0),\n",
       "  'review': 'This was a simply and yet delicious side dish.  I will be making this again real soon...........Thanks',\n",
       "  'rating': 0},\n",
       " {'user_id': 291164,\n",
       "  'recipe_id': 1750917,\n",
       "  'date': datetime.datetime(2020, 1, 28, 0, 0),\n",
       "  'review': '5 Stars and then some! Wow! Made this yesterday for my wife and I. I NEVER would have imagined that &quot;five cans&quot; could taste so good. I have been trying to lose weight, but I have not been looking for &quot;diet&quot; meals. I have been looking for healthy alternatives to fast food. This is amazingly good. \\n    What I actually did was combine this recipe with another, #57009 &quot;5 Cans and a Jar Soup Recipe&quot;. I highly recommend it! The added chicken broth and medium-hot salsa and kidney beans (I used one can of red, one white), and used fire-roasted diced tomatoes for additional flavor. A couple of sprigs of basil and a few bay leaves are the only additions I made. Combined, I was blown away. One of the most flavorful soups, -meals-, I have ever made! And really, &quot;no cooking&quot; is necessary! You are really just heating this up to meal temperature. Yes, I let it simmer a good hour or more, until my wife got home from work. I cannot recommend this enough! \\n    This is my new EASY, healthy, favorite! And my little dog, a &quot;schnoodle&quot;, LOVED it as well! :)',\n",
       "  'rating': 0},\n",
       " {'user_id': 41809,\n",
       "  'recipe_id': 560811,\n",
       "  'date': datetime.datetime(2021, 5, 30, 0, 0),\n",
       "  'review': \"I didn't use lemon pepper and tabasco and I used regiano parmigiano and maybe more. It was so yummy.  We all enjoyed it.  Thanks Realtor :)  Made for 123 hit wonders\",\n",
       "  'rating': 0},\n",
       " {'user_id': 28170,\n",
       "  'recipe_id': 1242039,\n",
       "  'date': datetime.datetime(2000, 8, 15, 0, 0),\n",
       "  'review': 'This dough recipe is amazing. It makes 2 large pies, it freezes well to boot! I use 1/2 whole wheat and 1/2 white flower and the family and friends love it! Thanks! Our favorite pizza is what I call Turkey Taco Pizza. It&#039;s ground turkey seasoned like you would taco meat, cheddar and jack cheese, baked and then topped with lettuce and fresh chopped tomato. I&#039;ll post a photo next time we make it!',\n",
       "  'rating': 0},\n",
       " {'user_id': 653438,\n",
       "  'recipe_id': 1174760,\n",
       "  'date': datetime.datetime(2021, 8, 11, 0, 0),\n",
       "  'review': 'This was great.  Did not have white wine worchestershire sauce or white balsamic vinigar, so just used white wine vinegar instead.  Marinated and injected the turkey on a Sunday, and due to circumstances did not get a chance to cook it until Thursday.  It was wonderful and tender.  Not salty at all.  Smoked the turkey in a smoker which (for me) usually ends up dry.  For Thanksgiving I will be using this on smoked turkey breasts, and on/in the regular oven cooked turkey...THANKS',\n",
       "  'rating': 0},\n",
       " {'user_id': 430471,\n",
       "  'recipe_id': 1454011,\n",
       "  'date': datetime.datetime(2008, 8, 15, 0, 0),\n",
       "  'review': \"This recipe was the highlight of my Thanksgiving dinner.  I didn't even need dessert.  It was easy to assemble with a big payoff.  Thank you!\",\n",
       "  'rating': 0},\n",
       " {'user_id': 2084433,\n",
       "  'recipe_id': 36839,\n",
       "  'date': datetime.datetime(2010, 11, 3, 0, 0),\n",
       "  'review': \"Pretty good and pretty easy.  Our chorizo (soy-rizo) had plenty of seasoning in it already, so I didn't add any more paprika, chili pepper, basil, or the bouillon cube.  By the time I got to the step where instructed to transfer everything to a baking dish and turn on the oven, I considered the pile of dishes I had already used (no dishwasher) and the July temperature in my kitchen, and I decided I'd just finish cooking it all on the stovetop in the skillet that it was already in.  I added the macaroni with some water to the skillet and let it simmer (covered) just a couple more minutes for the macaroni to finish cooking and then added the cheese, which melted quickly. Of course, if you want your cheese browned, stick with the oven method.\",\n",
       "  'rating': 0},\n",
       " {'user_id': 30209,\n",
       "  'recipe_id': 2060900,\n",
       "  'date': datetime.datetime(2004, 8, 16, 0, 0),\n",
       "  'review': 'What a delicious recipe!  It was a big hit at our table.  The only thing I did different was to add a little white wine after the onions were cooked to deglaze the pan, and get all that wonderful carmel colored stuff off the bottom of the pan.  It really made the onions sweeter, more golden in color, and was the perfect flavor compliment to the fish. When DH says he wants a fish recipe again, I put it in my favorite fish cookbook!  Thanks Thorsten.',\n",
       "  'rating': 0},\n",
       " {'user_id': 55221,\n",
       "  'recipe_id': 1140885,\n",
       "  'date': datetime.datetime(2019, 3, 1, 0, 0),\n",
       "  'review': \"What a wonderful way to end our St Patty's meal! I made the recipe into mini bundts so everyone could have their own. It was very easy to make and I will be making it for more than just this holiday. Thanks so much for posting!!\",\n",
       "  'rating': 0},\n",
       " {'user_id': 242729,\n",
       "  'recipe_id': 1490853,\n",
       "  'date': datetime.datetime(1978, 11, 12, 0, 0),\n",
       "  'review': 'Thanks Di for suggesting this recipe in using up a chuck roast!  The stew was hearty and delicous.  I found it was done after only 4 hours.  I loved the fact that once all the ingredients were prepared, I could just put it in the oven and forget about it while I was busy with other things.  This one is going in my permanent cookbook.  ',\n",
       "  'rating': 0},\n",
       " {'user_id': 1622278,\n",
       "  'recipe_id': 94219,\n",
       "  'date': datetime.datetime(2011, 6, 7, 0, 0),\n",
       "  'review': \"Forgo the Foil - don't steam the skin<br/>I have found that the secret is to make them like my Pops used to.<br/>poke the tate in spots -- rub the outside with white bacon drippins and salt w/ coarse kosher or sea salt.<br/>Best tasting potato anywhere, including the best steakhouses.\",\n",
       "  'rating': 0},\n",
       " {'user_id': 465906,\n",
       "  'recipe_id': 2127464,\n",
       "  'date': datetime.datetime(2018, 1, 2, 0, 0),\n",
       "  'review': 'Omg..!Omg.!This is exactly how I make it and like you,i love it with beans and potatoes.Oh.!Yummo!To die for,no,i dont want sugar in my cornbread,if I wanted cake.Id make cake.Lol.This recipe is perfect.,i have your fabreze recipe in my tips book,but this tastes so much better.Lol.Thanks big sis,and I love your pic,grey hair and all.',\n",
       "  'rating': 0},\n",
       " {'user_id': 1592484,\n",
       "  'recipe_id': 512082,\n",
       "  'date': datetime.datetime(1994, 9, 16, 0, 0),\n",
       "  'review': 'These were great. I made them and sent some to Iraq for a coworker who is there and took some to work with me for everyone to enjoy and they did just that. Thank you for a great recipe.',\n",
       "  'rating': 0},\n",
       " {'user_id': 2001047423,\n",
       "  'recipe_id': 1185808,\n",
       "  'date': datetime.datetime(2019, 11, 10, 0, 0),\n",
       "  'review': 'This was simple, quick, tasty and pretty. I made this as sidedish to Recipe #59890 and we really enjoyed it!',\n",
       "  'rating': 0},\n",
       " {'user_id': 174096,\n",
       "  'recipe_id': 357955,\n",
       "  'date': datetime.datetime(2017, 8, 20, 0, 0),\n",
       "  'review': \"AWESOME!!!  My family loved this chicken.  I did make some changes.  I used all chicken legs, which I skinned.  I didn't use garlic salt I just used 2 tsp of salt and a tsp of garlic powder.  I also used oregano instead of marjoram (if you ask me they are the same thing).  I also only used a TBS of butter and a TBS of oil.  My chicken wasn't soaked in the oil/butter but each piece got a little.  Again AWESOME.  This would also be good with pork.  I might even try turkey legs.\",\n",
       "  'rating': 0},\n",
       " {'user_id': 123220,\n",
       "  'recipe_id': 1371411,\n",
       "  'date': datetime.datetime(2019, 10, 22, 0, 0),\n",
       "  'review': 'I loved it! I just had it yesterday, it was purple (red and blue mixed together) and the vanilla extract and sugar taste in it was absolutely amazing! No wonder your kids adore it :)))',\n",
       "  'rating': 0},\n",
       " {'user_id': 591314,\n",
       "  'recipe_id': 333685,\n",
       "  'date': datetime.datetime(2021, 1, 26, 0, 0),\n",
       "  'review': \"Very delicious steak, loved the herbs, grilled on our indoor grill , juicey and delicious, served with new potatoes and new baby carrots from the farmer's market, YUM !!thanks for posting.\",\n",
       "  'rating': 0},\n",
       " {'user_id': 1488406,\n",
       "  'recipe_id': 57753,\n",
       "  'date': datetime.datetime(2009, 12, 28, 0, 0),\n",
       "  'review': 'I sauted the chicken on both sides with spices till nicely brown\\r\\non both sides {about 10 minutes}. Then proceeded with sauce.\\r\\nThis is a keeper! I made it for dinner for 7 people and they loved it. I did increase the lemon juice by 1 TBLE. spoon. I too, served the sauce on the the side. This gets an A rating.  Leslie',\n",
       "  'rating': 0},\n",
       " {'user_id': 925355,\n",
       "  'recipe_id': 998531,\n",
       "  'date': datetime.datetime(2019, 12, 2, 0, 0),\n",
       "  'review': 'We made these cookies for Santa. The recipe makes a good cookie airy and moist. These were not too sweet as most mall cookies tend to be. I reduced the stars because the baking instructions produces a flat cookie that takes 20 minutes to cook but does not produce that crispy edge I like on a cookie. I suggest to not reduce the temperature but rather reduce the time to 10 to 12 ,minutes for fresh cookie dough and 15 minutes for refrigerated dough.',\n",
       "  'rating': 0},\n",
       " {'user_id': 1892175,\n",
       "  'recipe_id': 419188,\n",
       "  'date': datetime.datetime(2011, 4, 22, 0, 0),\n",
       "  'review': 'Got rave reviews from my family.  Will be a tradition for the holidays',\n",
       "  'rating': 0})"
      ]
     },
     "execution_count": 8,
     "metadata": {},
     "output_type": "execute_result"
    }
   ],
   "source": [
    "def my_loader(data) -> dict:\n",
    "\n",
    "    json_str, path = data\n",
    "    file_number = re.findall('reviews_([0-9]).json', path)    \n",
    "    json_obj = json.loads(json_str)\n",
    "    json_obj[\"rating\"] = int(file_number[0])\n",
    "    json_obj[\"date\"] = datetime.strptime(json_obj[\"date\"], '%Y-%m-%d')\n",
    "\n",
    "    return json_obj\n",
    "\n",
    "b_bag = db.read_text(urlpath=\"./reviews_full/reviews_full/reviews_*.json\", include_path=True).map(my_loader)\n",
    "b_bag.take(50)"
   ]
  },
  {
   "cell_type": "markdown",
   "metadata": {
    "id": "jz9OfT2zlkbJ"
   },
   "source": [
    "3. Посчитайте количество отзывов в исходном датасете."
   ]
  },
  {
   "cell_type": "code",
   "execution_count": 9,
   "metadata": {},
   "outputs": [
    {
     "data": {
      "text/plain": [
       "9057540"
      ]
     },
     "execution_count": 9,
     "metadata": {},
     "output_type": "execute_result"
    }
   ],
   "source": [
    "b_bag.count().compute()"
   ]
  },
  {
   "cell_type": "markdown",
   "metadata": {
    "id": "rsSyMJYZlkbJ"
   },
   "source": [
    "4. Отфильтруйте `bag`, сохранив только отзывы, оставленные в 2014 и 2015 годах."
   ]
  },
  {
   "cell_type": "code",
   "execution_count": 10,
   "metadata": {},
   "outputs": [],
   "source": [
    "def years_filter(item):\n",
    "    return item[\"date\"].year in (2014, 2015)"
   ]
  },
  {
   "cell_type": "code",
   "execution_count": 11,
   "metadata": {},
   "outputs": [
    {
     "data": {
      "text/plain": [
       "({'user_id': 229850,\n",
       "  'recipe_id': 1300038,\n",
       "  'date': datetime.datetime(2014, 10, 3, 0, 0),\n",
       "  'review': 'Took this to a New Year&#039;s Eve Party. Everyone loved it! It&#039;s absolutely perfect, the flavor, the crunch, just delicious!',\n",
       "  'rating': 0},\n",
       " {'user_id': 2706705,\n",
       "  'recipe_id': 133747,\n",
       "  'date': datetime.datetime(2015, 5, 8, 0, 0),\n",
       "  'review': 'Simple and easy way to enjoy a slice of pizza any time!  Well-toasted bread is the key - really toast it!  I put a bit of pizza sauce underneath my cheese for a more pizza-like flavor.  I used sourdough bread & medium cheddar cheese.  Fast & fun!  Great idea!  Made for 1-2-3 Hits Tag Game.',\n",
       "  'rating': 0},\n",
       " {'user_id': 945545,\n",
       "  'recipe_id': 898468,\n",
       "  'date': datetime.datetime(2015, 6, 30, 0, 0),\n",
       "  'review': 'Delish!  I wanted to make this spicy so I used hot enchilada sauce and jalapeno refried beans.  I forgot to buy the onions so I doctored up the beans with onion powder and granulated garlic.  Added the olives under the cheese and baked, uncovered, for the 25 minutes.  Served with pico de gallo, sour cream and avocado chunks.  Fantastic!  Thanks for sharing, lazyme!',\n",
       "  'rating': 0},\n",
       " {'user_id': 262915,\n",
       "  'recipe_id': 1657686,\n",
       "  'date': datetime.datetime(2015, 11, 29, 0, 0),\n",
       "  'review': 'This is seriously delicious.  I mixed it up the night before and baked it in the morning before work.  Made the sauce the night before and refrigerated overnight and heated in microwave.  Such an unusual combination but it kind of reminded me of the pancake on a stick that my kids used to get at the convenience store (sausage wrapped in a pancake, kind of like a corn dog.  Making it again this week and will try to get a pic this time!',\n",
       "  'rating': 0},\n",
       " {'user_id': 2000408662,\n",
       "  'recipe_id': 128848,\n",
       "  'date': datetime.datetime(2015, 8, 17, 0, 0),\n",
       "  'review': 'Many thanks. Found the recipe truly marvellous! I can now make full use of the lemons growing in my garden.The marmalade was delicious and very easy to make. Since it was the first time, I didn&#039;t want to use a large quantity and so I halved the measures after converting them into grams. Please could we have measurements of ingredients in  recipes in the metric system, i.e. grams and litres,and not in pounds?  Now I am going to search for a recipe to make lemon squash',\n",
       "  'rating': 0})"
      ]
     },
     "execution_count": 11,
     "metadata": {},
     "output_type": "execute_result"
    }
   ],
   "source": [
    "c_bag = b_bag.filter(years_filter)\n",
    "c_bag.take(5)"
   ]
  },
  {
   "cell_type": "markdown",
   "metadata": {
    "id": "iTDdFKh1lkbJ"
   },
   "source": [
    "5. Выполните препроцессинг отзывов:\n",
    "    * привести строки к нижнему регистру\n",
    "    * обрезать пробельные символы в начале и конце строки\n",
    "    * удалите все символы, кроме английских букв и пробелов\n",
    "    \n",
    "Примените препроцессинг ко всем записям из `bag`, полученного в задании 4."
   ]
  },
  {
   "cell_type": "code",
   "execution_count": 12,
   "metadata": {},
   "outputs": [],
   "source": [
    "import re\n",
    "pattern = re.compile('[^a-z ]+')"
   ]
  },
  {
   "cell_type": "code",
   "execution_count": 13,
   "metadata": {},
   "outputs": [],
   "source": [
    "def my_preprocessing(item):\n",
    "    current_str = item[\"review\"].lower().strip()\n",
    "    item[\"review\"] = re.sub(pattern, '', current_str)\n",
    "    return item"
   ]
  },
  {
   "cell_type": "markdown",
   "metadata": {
    "id": "40s0EerWlkbJ"
   },
   "source": [
    "6. Посчитайте количество отзывов в датасете, полученном в результате решения задачи 5. В случае ошибок прокомментируйте результат и исправьте функцию препроцессинга."
   ]
  },
  {
   "cell_type": "code",
   "execution_count": 15,
   "metadata": {},
   "outputs": [
    {
     "name": "stdout",
     "output_type": "stream",
     "text": [
      "735274\n"
     ]
    }
   ],
   "source": [
    "c_len = c_bag.count().compute()\n",
    "print(c_len)"
   ]
  },
  {
   "cell_type": "markdown",
   "metadata": {
    "id": "Uy_eSt7alkbJ"
   },
   "source": [
    "7. Посчитайте, как часто в наборе, полученном в задании 5, встречается та или иная оценка"
   ]
  },
  {
   "cell_type": "code",
   "execution_count": 17,
   "metadata": {},
   "outputs": [
    {
     "name": "stdout",
     "output_type": "stream",
     "text": [
      "Rating=0, count=42472\n",
      "Rating=1, count=9246\n",
      "Rating=2, count=9380\n",
      "Rating=3, count=26532\n",
      "Rating=4, count=119413\n",
      "Rating=5, count=528231\n"
     ]
    }
   ],
   "source": [
    "for item in c_bag.pluck(key=\"rating\").frequencies().compute():\n",
    "    print(\"Rating={}, count={}\".format(*item))"
   ]
  },
  {
   "cell_type": "markdown",
   "metadata": {
    "id": "rbl9zzWmlkbK"
   },
   "source": [
    "8. Найдите среднее значение `rating` в выборке"
   ]
  },
  {
   "cell_type": "code",
   "execution_count": 18,
   "metadata": {},
   "outputs": [
    {
     "data": {
      "text/plain": [
       "4.388036296673077"
      ]
     },
     "execution_count": 18,
     "metadata": {},
     "output_type": "execute_result"
    }
   ],
   "source": [
    "c_bag.pluck(key=\"rating\").mean().compute()"
   ]
  },
  {
   "cell_type": "markdown",
   "metadata": {
    "id": "TVAS6L6GlkbK"
   },
   "source": [
    "9. Используя метод `foldby`, подсчитать максимальную длину отзывов в зависимости от оценки `rating` в наборе, полученном в задании 5."
   ]
  },
  {
   "cell_type": "code",
   "execution_count": 19,
   "metadata": {},
   "outputs": [
    {
     "name": "stdout",
     "output_type": "stream",
     "text": [
      "Rating=0, max review len=6972\n",
      "Rating=1, max review len=3347\n",
      "Rating=2, max review len=3040\n",
      "Rating=3, max review len=3308\n",
      "Rating=4, max review len=6972\n",
      "Rating=5, max review len=5799\n"
     ]
    }
   ],
   "source": [
    "def combine(left, right):\n",
    "    \"\"\"Возврат максимального значения из всех сегментов\"\"\"\n",
    "    return max(left, right)\n",
    "\n",
    "def binop(previous, current):\n",
    "    \"\"\"Подсчет максимума внутри определенного сегмента\"\"\"\n",
    "    return max(previous, len(current[\"review\"]))\n",
    "\n",
    "result = c_bag.foldby(key=\"rating\", binop=binop, initial=0, combine=combine, combine_initial=0).compute()\n",
    "for item in result:\n",
    "    print(\"Rating={}, max review len={}\".format(*item))"
   ]
  },
  {
   "cell_type": "code",
   "execution_count": null,
   "metadata": {
    "colab": {
     "base_uri": "https://localhost:8080/",
     "height": 472
    },
    "id": "9xCqnzvSlkbK",
    "outputId": "530d7926-0675-4378-ee74-408f87b15e23"
   },
   "outputs": [],
   "source": [
    "import matplotlib.pyplot as plt\n",
    "import math\n",
    "\n",
    "def ebbinghaus_forgetting_curve(initial_memorization, days):\n",
    "    retention_rate = [1.0, 0.5, 0.3, 0.2, 0.15, 0.1, 0.05, 0.02]\n",
    "    memory_strengths = [initial_memorization]\n",
    "\n",
    "    for day in range(1, days+1):\n",
    "        strength = memory_strengths[-1]\n",
    "        if day <= 8:\n",
    "            strength *= retention_rate[day-1]\n",
    "        else:\n",
    "            strength *= math.exp(-0.1*(day-8))\n",
    "        memory_strengths.append(strength)\n",
    "        \n",
    "    return memory_strengths\n",
    "\n",
    "# Example usage\n",
    "initial_memorization = 100\n",
    "days = 30\n",
    "memory_strengths = ebbinghaus_forgetting_curve(initial_memorization, days)\n",
    "plt.plot(range(days+1), memory_strengths)\n",
    "plt.xlabel('Days')\n",
    "plt.ylabel('Memory Strength')\n",
    "plt.title('Ebbinghaus Forgetting Curve')\n",
    "plt.show()\n"
   ]
  },
  {
   "cell_type": "code",
   "execution_count": null,
   "metadata": {
    "id": "FtXgz42LM4g0"
   },
   "outputs": [],
   "source": []
  }
 ],
 "metadata": {
  "colab": {
   "provenance": []
  },
  "kernelspec": {
   "display_name": "Python 3 (ipykernel)",
   "language": "python",
   "name": "python3"
  },
  "language_info": {
   "codemirror_mode": {
    "name": "ipython",
    "version": 3
   },
   "file_extension": ".py",
   "mimetype": "text/x-python",
   "name": "python",
   "nbconvert_exporter": "python",
   "pygments_lexer": "ipython3",
   "version": "3.9.13"
  }
 },
 "nbformat": 4,
 "nbformat_minor": 1
}
